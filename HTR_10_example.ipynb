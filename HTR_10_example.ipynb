{
 "cells": [
  {
   "cell_type": "markdown",
   "id": "a58604f7",
   "metadata": {},
   "source": [
    "# Pebble_Model Package\n",
    "\n",
    "This is the typical usage of Pebble_Model used to couple DEM and Monte Carlo simulation for depletion simulation. \n",
    "\n"
   ]
  },
  {
   "cell_type": "markdown",
   "id": "b0a3c9a8",
   "metadata": {},
   "source": [
    "## Example: Modelling HTR-10 Benchmark Model\n",
    "\n",
    "Here is the example of the usage of Pebble_Model module to model HTR-10 reactor core within this [reference](https://www-pub.iaea.org/MTCD/publications/PDF/te_1382_web/TE_1382_Part2.pdf). This example also demonstrate the recirculation scheme used in [this publication](https://iopscience.iop.org/article/10.1088/1742-6596/2048/1/012031)."
   ]
  },
  {
   "cell_type": "code",
   "execution_count": 1,
   "id": "76a583ef",
   "metadata": {},
   "outputs": [],
   "source": [
    "'''\n",
    "_______________________________________________________________________________\n",
    "============================Import all the library=============================\n",
    "_______________________________________________________________________________\n",
    "'''\n",
    "import Pebble_Model as PU\n",
    "import HTR10\n",
    "\n",
    "import openmc\n",
    "import openmc.deplete\n",
    "\n",
    "%matplotlib inline\n",
    "import argparse\n",
    "import os\n",
    "import math\n",
    "import pandas as pd"
   ]
  },
  {
   "cell_type": "markdown",
   "id": "3ada0b55",
   "metadata": {},
   "source": [
    "Let's first start by defining the cross section path and the depletion chain used for simulation. If the cross section path already included in '$PATH', then skip this line. the chain can be obtained using ENDF chain or Simplified Chain from [this link](https://openmc.org/depletion-chains/). The chain used for reading the fission product from depletion result after simulating one step of DEM."
   ]
  },
  {
   "cell_type": "code",
   "execution_count": 2,
   "id": "052582bd",
   "metadata": {},
   "outputs": [],
   "source": [
    "CS_path  = 'Nuclear_Library/jeff-3.3-hdf5/cross_sections.xml'\n",
    "chain    = \"./chain_casl_pwr.xml\"\n",
    "os.environ[\"OPENMC_CROSS_SECTIONS\"] = CS_path"
   ]
  },
  {
   "cell_type": "markdown",
   "id": "71b92def",
   "metadata": {},
   "source": [
    "The DEM files are included in this DEM_post directory of this examples. It start from dump number 8600000. For DEM step-i and t in timeline, the dump number equal to $8600000+(10000\\times t_i)+i\\times100000$. "
   ]
  },
  {
   "cell_type": "code",
   "execution_count": 3,
   "id": "d72a3d80",
   "metadata": {},
   "outputs": [],
   "source": [
    "initial  = 8600000\n",
    "deltas   = 10000\n",
    "timeline = [0,7,14,21,28,38,48,58,68,98,128,158,188,218,248,278,308]"
   ]
  },
  {
   "cell_type": "markdown",
   "id": "490bdad9",
   "metadata": {},
   "source": [
    "The fuel consists of UO$_2$ (17% enrichment) with slight absorber modelled as Boron. The date obtained from [benchmark](https://www-pub.iaea.org/MTCD/publications/PDF/te_1382_web/TE_1382_Part2.pdf)."
   ]
  },
  {
   "cell_type": "code",
   "execution_count": 4,
   "id": "657c03e4",
   "metadata": {},
   "outputs": [],
   "source": [
    "atom_fraction = [3.99198e-3, 1.92441e-2, 4.64720e-2, 4.06384e-7, 1.63575e-6]\n",
    "\n",
    "Initial_condition = [['U235','U238','O16','B10','B11'],\n",
    "                     [x/sum(atom_fraction) for x in atom_fraction]]"
   ]
  },
  {
   "cell_type": "markdown",
   "id": "aa544cf8",
   "metadata": {},
   "source": [
    "Next, we need to define the object of Pebble (Pebble list from DEM dump) and Fisile (Material composition of each TRISO kernel in each Pebble in each Pebble group). Pebble object initiated by DEM step and the number of DEM step simulated. Fisile object initiated by DEM step, timeline, burn power (10 MW) for each DEM step (timeline) and the chain. The power for Fisile can be different for each timeline. \n",
    "\n",
    "TRISO position inside pebble is fully randomized using **sparse_TRISO** module. **random_ordered_TRISO** module used if one want to create a TRISO in grid, with TRISO position inside each grid randomized with **combination** position.  "
   ]
  },
  {
   "cell_type": "code",
   "execution_count": 5,
   "id": "139a861e",
   "metadata": {},
   "outputs": [],
   "source": [
    "Pebble=PU.DEM_data(0,len(timeline))\n",
    "Fisile=PU.Recirculation(0,timeline,[10]*len(timeline),chain)\n",
    "TRIpos=PU.sparse_TRISO(n=8335,r_TRISO=0.04075,r_PEBBLE=2.5)"
   ]
  },
  {
   "cell_type": "markdown",
   "id": "3f8ad11e",
   "metadata": {},
   "source": [
    "Pebble object need to read the DEM dump in DEM_post before modelling. The dump should be in format of ASCII .vtk.\n",
    "\n",
    "After read, each Pebble need to be labeled according to axial, radial and angular position (with **radial_axial** method). The core segmented into 5 axial segment, 3 radial segment and 1 angle segment total ($5\\times3\\times1 = 15$ group/label). Each pebble labeled by its segment (read [reference](https://iopscience.iop.org/article/10.1088/1742-6596/2048/1/012031) for detail). If one want to label each pebble uniquely, **individual_grouping** method can be used."
   ]
  },
  {
   "cell_type": "code",
   "execution_count": 6,
   "id": "33a61eaf",
   "metadata": {},
   "outputs": [
    {
     "data": {
      "text/html": [
       "<div>\n",
       "<style scoped>\n",
       "    .dataframe tbody tr th:only-of-type {\n",
       "        vertical-align: middle;\n",
       "    }\n",
       "\n",
       "    .dataframe tbody tr th {\n",
       "        vertical-align: top;\n",
       "    }\n",
       "\n",
       "    .dataframe thead th {\n",
       "        text-align: right;\n",
       "    }\n",
       "</style>\n",
       "<table border=\"1\" class=\"dataframe\">\n",
       "  <thead>\n",
       "    <tr style=\"text-align: right;\">\n",
       "      <th></th>\n",
       "      <th>theta</th>\n",
       "      <th>y</th>\n",
       "      <th>z</th>\n",
       "      <th>rho</th>\n",
       "      <th>label</th>\n",
       "      <th>id</th>\n",
       "      <th>type</th>\n",
       "      <th>x</th>\n",
       "    </tr>\n",
       "  </thead>\n",
       "  <tbody>\n",
       "    <tr>\n",
       "      <th>0</th>\n",
       "      <td>3.936437</td>\n",
       "      <td>-14.79930</td>\n",
       "      <td>-140.186</td>\n",
       "      <td>0.207344</td>\n",
       "      <td>0</td>\n",
       "      <td>1</td>\n",
       "      <td>2</td>\n",
       "      <td>-14.52230</td>\n",
       "    </tr>\n",
       "    <tr>\n",
       "      <th>1</th>\n",
       "      <td>4.770717</td>\n",
       "      <td>-21.41170</td>\n",
       "      <td>-140.189</td>\n",
       "      <td>0.214482</td>\n",
       "      <td>0</td>\n",
       "      <td>2</td>\n",
       "      <td>2</td>\n",
       "      <td>1.25033</td>\n",
       "    </tr>\n",
       "    <tr>\n",
       "      <th>2</th>\n",
       "      <td>4.494693</td>\n",
       "      <td>-18.86920</td>\n",
       "      <td>-140.185</td>\n",
       "      <td>0.193253</td>\n",
       "      <td>0</td>\n",
       "      <td>3</td>\n",
       "      <td>2</td>\n",
       "      <td>-4.17389</td>\n",
       "    </tr>\n",
       "    <tr>\n",
       "      <th>3</th>\n",
       "      <td>1.917855</td>\n",
       "      <td>19.95680</td>\n",
       "      <td>-140.184</td>\n",
       "      <td>0.212221</td>\n",
       "      <td>0</td>\n",
       "      <td>4</td>\n",
       "      <td>2</td>\n",
       "      <td>-7.21836</td>\n",
       "    </tr>\n",
       "    <tr>\n",
       "      <th>4</th>\n",
       "      <td>2.490772</td>\n",
       "      <td>12.92990</td>\n",
       "      <td>-140.190</td>\n",
       "      <td>0.213421</td>\n",
       "      <td>0</td>\n",
       "      <td>5</td>\n",
       "      <td>2</td>\n",
       "      <td>-16.97950</td>\n",
       "    </tr>\n",
       "    <tr>\n",
       "      <th>...</th>\n",
       "      <td>...</td>\n",
       "      <td>...</td>\n",
       "      <td>...</td>\n",
       "      <td>...</td>\n",
       "      <td>...</td>\n",
       "      <td>...</td>\n",
       "      <td>...</td>\n",
       "      <td>...</td>\n",
       "    </tr>\n",
       "    <tr>\n",
       "      <th>28015</th>\n",
       "      <td>3.408225</td>\n",
       "      <td>-22.86840</td>\n",
       "      <td>179.582</td>\n",
       "      <td>0.867921</td>\n",
       "      <td>0</td>\n",
       "      <td>28016</td>\n",
       "      <td>1</td>\n",
       "      <td>-83.72520</td>\n",
       "    </tr>\n",
       "    <tr>\n",
       "      <th>28016</th>\n",
       "      <td>5.987353</td>\n",
       "      <td>-3.30493</td>\n",
       "      <td>204.431</td>\n",
       "      <td>0.113362</td>\n",
       "      <td>13</td>\n",
       "      <td>28017</td>\n",
       "      <td>1</td>\n",
       "      <td>10.84380</td>\n",
       "    </tr>\n",
       "    <tr>\n",
       "      <th>28017</th>\n",
       "      <td>4.936528</td>\n",
       "      <td>-15.57240</td>\n",
       "      <td>205.120</td>\n",
       "      <td>0.159719</td>\n",
       "      <td>13</td>\n",
       "      <td>28018</td>\n",
       "      <td>1</td>\n",
       "      <td>3.55003</td>\n",
       "    </tr>\n",
       "    <tr>\n",
       "      <th>28018</th>\n",
       "      <td>4.014449</td>\n",
       "      <td>-12.44580</td>\n",
       "      <td>204.878</td>\n",
       "      <td>0.162442</td>\n",
       "      <td>0</td>\n",
       "      <td>28019</td>\n",
       "      <td>2</td>\n",
       "      <td>-10.43920</td>\n",
       "    </tr>\n",
       "    <tr>\n",
       "      <th>28019</th>\n",
       "      <td>0.117220</td>\n",
       "      <td>10.16150</td>\n",
       "      <td>176.290</td>\n",
       "      <td>0.868863</td>\n",
       "      <td>0</td>\n",
       "      <td>28020</td>\n",
       "      <td>1</td>\n",
       "      <td>86.29010</td>\n",
       "    </tr>\n",
       "  </tbody>\n",
       "</table>\n",
       "<p>28020 rows × 8 columns</p>\n",
       "</div>"
      ],
      "text/plain": [
       "          theta         y        z       rho  label     id  type         x\n",
       "0      3.936437 -14.79930 -140.186  0.207344      0      1     2 -14.52230\n",
       "1      4.770717 -21.41170 -140.189  0.214482      0      2     2   1.25033\n",
       "2      4.494693 -18.86920 -140.185  0.193253      0      3     2  -4.17389\n",
       "3      1.917855  19.95680 -140.184  0.212221      0      4     2  -7.21836\n",
       "4      2.490772  12.92990 -140.190  0.213421      0      5     2 -16.97950\n",
       "...         ...       ...      ...       ...    ...    ...   ...       ...\n",
       "28015  3.408225 -22.86840  179.582  0.867921      0  28016     1 -83.72520\n",
       "28016  5.987353  -3.30493  204.431  0.113362     13  28017     1  10.84380\n",
       "28017  4.936528 -15.57240  205.120  0.159719     13  28018     1   3.55003\n",
       "28018  4.014449 -12.44580  204.878  0.162442      0  28019     2 -10.43920\n",
       "28019  0.117220  10.16150  176.290  0.868863      0  28020     1  86.29010\n",
       "\n",
       "[28020 rows x 8 columns]"
      ]
     },
     "execution_count": 6,
     "metadata": {},
     "output_type": "execute_result"
    }
   ],
   "source": [
    "filepath = int(initial+(deltas*timeline[0])+0*100000)\n",
    "Pebble.read('./DEM_post/pebble_'+str(filepath)+'.vtk')\n",
    "Pebble.label(PU.radial_axial,axial_segment=5,radial_segment=3,angle_segment=1)\n",
    "\n",
    "pd.DataFrame({k: Pebble.Pebbledf[k] for k in Pebble.Pebbledf.keys()& {'id','x','y','z','rho','theta','type','label'}})"
   ]
  },
  {
   "cell_type": "markdown",
   "id": "a440eff4",
   "metadata": {},
   "source": [
    "Next, we can assign initial material for each group/label using **add** method from Fisile object. The Fissile object should have material equal to number of group in Pebble object."
   ]
  },
  {
   "cell_type": "code",
   "execution_count": 7,
   "id": "a4fccb0f",
   "metadata": {},
   "outputs": [
    {
     "name": "stdout",
     "output_type": "stream",
     "text": [
      "atom den [atom/b-cm]\n"
     ]
    },
    {
     "data": {
      "text/html": [
       "<div>\n",
       "<style scoped>\n",
       "    .dataframe tbody tr th:only-of-type {\n",
       "        vertical-align: middle;\n",
       "    }\n",
       "\n",
       "    .dataframe tbody tr th {\n",
       "        vertical-align: top;\n",
       "    }\n",
       "\n",
       "    .dataframe thead th {\n",
       "        text-align: right;\n",
       "    }\n",
       "</style>\n",
       "<table border=\"1\" class=\"dataframe\">\n",
       "  <thead>\n",
       "    <tr style=\"text-align: right;\">\n",
       "      <th></th>\n",
       "      <th>atom fr</th>\n",
       "      <th>isotope</th>\n",
       "      <th>mass fr</th>\n",
       "      <th>atom den</th>\n",
       "    </tr>\n",
       "  </thead>\n",
       "  <tbody>\n",
       "    <tr>\n",
       "      <th>0</th>\n",
       "      <td>0.057265</td>\n",
       "      <td>U235</td>\n",
       "      <td>1.498160e-01</td>\n",
       "      <td>0.595560</td>\n",
       "    </tr>\n",
       "    <tr>\n",
       "      <th>1</th>\n",
       "      <td>0.276059</td>\n",
       "      <td>U238</td>\n",
       "      <td>7.314361e-01</td>\n",
       "      <td>2.871013</td>\n",
       "    </tr>\n",
       "    <tr>\n",
       "      <th>2</th>\n",
       "      <td>0.666646</td>\n",
       "      <td>O16</td>\n",
       "      <td>1.187444e-01</td>\n",
       "      <td>6.933122</td>\n",
       "    </tr>\n",
       "    <tr>\n",
       "      <th>3</th>\n",
       "      <td>0.000006</td>\n",
       "      <td>B10</td>\n",
       "      <td>6.489906e-07</td>\n",
       "      <td>0.000061</td>\n",
       "    </tr>\n",
       "    <tr>\n",
       "      <th>4</th>\n",
       "      <td>0.000023</td>\n",
       "      <td>B11</td>\n",
       "      <td>2.873502e-06</td>\n",
       "      <td>0.000244</td>\n",
       "    </tr>\n",
       "  </tbody>\n",
       "</table>\n",
       "</div>"
      ],
      "text/plain": [
       "    atom fr isotope       mass fr  atom den\n",
       "0  0.057265    U235  1.498160e-01  0.595560\n",
       "1  0.276059    U238  7.314361e-01  2.871013\n",
       "2  0.666646     O16  1.187444e-01  6.933122\n",
       "3  0.000006     B10  6.489906e-07  0.000061\n",
       "4  0.000023     B11  2.873502e-06  0.000244"
      ]
     },
     "execution_count": 7,
     "metadata": {},
     "output_type": "execute_result"
    }
   ],
   "source": [
    "for j in range(0,max(Pebble.Pebbledf['label'])):\n",
    "    Fisile.add(Initial_condition[0],Initial_condition[1],10.4,\n",
    "               8335*(4/3)*math.pi*(0.025**3),\n",
    "               j,Pebble.Pebbledf,fraction_type='atom fr')\n",
    "Fisile.write_material()\n",
    "\n",
    "print('atom den [atom/b-cm]')\n",
    "pd.DataFrame.from_dict({k: Fisile.matlist[0][k] for k in Fisile.matlist[0].keys()& {'atom den','atom fr','mass fr','isotope'}})"
   ]
  },
  {
   "cell_type": "markdown",
   "id": "db2c3c08",
   "metadata": {},
   "source": [
    "Now we can make the Core universe using **HTR10** modelling module with **Pebble.Pebbledf** and **Fisile.kernel_material** object variables. Core object will create OpenMC material, cell, and universe that model all pebble and coolant in the core. Core object can also temporarily visualize the universe created by it."
   ]
  },
  {
   "cell_type": "code",
   "execution_count": 8,
   "id": "fe290867",
   "metadata": {
    "scrolled": false
   },
   "outputs": [],
   "source": [
    "Core = HTR10.HTR10_Core_Universe(Pebble.Pebbledf,Fisile.kernel_material)\n",
    "Core.create_TRISO()\n",
    "Core.create_Pebble(TRIpos)\n",
    "Core.create_Core()\n",
    "#Core.visualize(res=400,dirs='visualize/')"
   ]
  },
  {
   "cell_type": "markdown",
   "id": "dd22105d",
   "metadata": {},
   "source": [
    "HTR10 module can also made the control rod universe. In this tutorial we create 0.5 control rod insertion."
   ]
  },
  {
   "cell_type": "code",
   "execution_count": 9,
   "id": "22e3eae9",
   "metadata": {},
   "outputs": [],
   "source": [
    "CRod   = HTR10.HTR10_Control_Universe()\n",
    "CRod.create_rod(0.5)"
   ]
  },
  {
   "cell_type": "markdown",
   "id": "36ce2f43",
   "metadata": {},
   "source": [
    "Then, we can use CRod and Core object universe to create full model of the core with predefined material and position in **Table_34** which based on table 34 [reference](https://www-pub.iaea.org/MTCD/publications/PDF/te_1382_web/TE_1382_Part2.pdf). After, Create_Material and Create_Geometry, we have object parameter **root_universe**."
   ]
  },
  {
   "cell_type": "code",
   "execution_count": 10,
   "id": "56e9216f",
   "metadata": {},
   "outputs": [],
   "source": [
    "HTRten = HTR10.HTR10_Reactor_Universe(Pebble.Pebbledf,CRod.control_univ,Core.Coreuniverse)\n",
    "HTRten.Read_Table_34()\n",
    "HTRten.Create_Material()\n",
    "HTRten.Create_Geometry()"
   ]
  },
  {
   "cell_type": "markdown",
   "id": "d781419d",
   "metadata": {},
   "source": [
    "Next, we can use the material from **CRod, Core and HTRten object** and the geometry from **root_universe** from object HTRten to make OpenMC input file."
   ]
  },
  {
   "cell_type": "code",
   "execution_count": 11,
   "id": "4dd930f3",
   "metadata": {},
   "outputs": [
    {
     "name": "stdout",
     "output_type": "stream",
     "text": [
      "                                %%%%%%%%%%%%%%%\n",
      "                           %%%%%%%%%%%%%%%%%%%%%%%%\n",
      "                        %%%%%%%%%%%%%%%%%%%%%%%%%%%%%%\n",
      "                      %%%%%%%%%%%%%%%%%%%%%%%%%%%%%%%%%%\n",
      "                    %%%%%%%%%%%%%%%%%%%%%%%%%%%%%%%%%%%%%%\n",
      "                   %%%%%%%%%%%%%%%%%%%%%%%%%%%%%%%%%%%%%%%%\n",
      "                                    %%%%%%%%%%%%%%%%%%%%%%%%\n",
      "                                     %%%%%%%%%%%%%%%%%%%%%%%%\n",
      "                 ###############      %%%%%%%%%%%%%%%%%%%%%%%%\n",
      "                ##################     %%%%%%%%%%%%%%%%%%%%%%%\n",
      "                ###################     %%%%%%%%%%%%%%%%%%%%%%%\n",
      "                ####################     %%%%%%%%%%%%%%%%%%%%%%\n",
      "                #####################     %%%%%%%%%%%%%%%%%%%%%\n",
      "                ######################     %%%%%%%%%%%%%%%%%%%%\n",
      "                #######################     %%%%%%%%%%%%%%%%%%\n",
      "                 #######################     %%%%%%%%%%%%%%%%%\n",
      "                 ######################     %%%%%%%%%%%%%%%%%\n",
      "                  ####################     %%%%%%%%%%%%%%%%%\n",
      "                    #################     %%%%%%%%%%%%%%%%%\n",
      "                     ###############     %%%%%%%%%%%%%%%%\n",
      "                       ############     %%%%%%%%%%%%%%%\n",
      "                          ########     %%%%%%%%%%%%%%\n",
      "                                      %%%%%%%%%%%\n",
      "\n",
      "                   | The OpenMC Monte Carlo Code\n",
      "         Copyright | 2011-2021 MIT and OpenMC contributors\n",
      "           License | https://docs.openmc.org/en/latest/license.html\n",
      "           Version | 0.12.2\n",
      "          Git SHA1 | 15a3a5e5e621a8029932f6da0309b705248e9d27\n",
      "         Date/Time | 2022-02-16 00:28:14\n",
      "    OpenMP Threads | 8\n",
      "\n",
      " Reading settings XML file...\n",
      " Reading cross sections XML file...\n",
      " Reading materials XML file...\n",
      " Reading geometry XML file...\n",
      " Reading U235 from\n",
      " Nuclear_Library/jeff-3.3-hdf5/U235.h5\n",
      " Reading U238 from\n",
      " Nuclear_Library/jeff-3.3-hdf5/U238.h5\n",
      " Reading O16 from Nuclear_Library/jeff-3.3-hdf5/O16.h5\n",
      " Reading B10 from Nuclear_Library/jeff-3.3-hdf5/B10.h5\n",
      " Reading B11 from Nuclear_Library/jeff-3.3-hdf5/B11.h5\n",
      " Reading C0 from Nuclear_Library/jeff-3.3-hdf5/C0.h5\n",
      " Reading Si28 from\n",
      " Nuclear_Library/jeff-3.3-hdf5/Si28.h5\n",
      " Reading Si29 from\n",
      " Nuclear_Library/jeff-3.3-hdf5/Si29.h5\n",
      " Reading Si30 from\n",
      " Nuclear_Library/jeff-3.3-hdf5/Si30.h5\n",
      " Reading N14 from Nuclear_Library/jeff-3.3-hdf5/N14.h5\n",
      " Reading N15 from Nuclear_Library/jeff-3.3-hdf5/N15.h5\n",
      " Reading O17 from Nuclear_Library/jeff-3.3-hdf5/O17.h5\n",
      " Reading O18 from Nuclear_Library/jeff-3.3-hdf5/O18.h5\n",
      " Reading Ar36 from\n",
      " Nuclear_Library/jeff-3.3-hdf5/Ar36.h5\n",
      " Reading Ar38 from\n",
      " Nuclear_Library/jeff-3.3-hdf5/Ar38.h5\n",
      " Reading Ar40 from\n",
      " Nuclear_Library/jeff-3.3-hdf5/Ar40.h5\n",
      " Reading H1 from Nuclear_Library/jeff-3.3-hdf5/H1.h5\n",
      " Reading H2 from Nuclear_Library/jeff-3.3-hdf5/H2.h5\n",
      " Reading Cr50 from\n",
      " Nuclear_Library/jeff-3.3-hdf5/Cr50.h5\n",
      " Reading Cr52 from\n",
      " Nuclear_Library/jeff-3.3-hdf5/Cr52.h5\n",
      " Reading Cr53 from\n",
      " Nuclear_Library/jeff-3.3-hdf5/Cr53.h5\n",
      " Reading Cr54 from\n",
      " Nuclear_Library/jeff-3.3-hdf5/Cr54.h5\n",
      " Reading Fe54 from\n",
      " Nuclear_Library/jeff-3.3-hdf5/Fe54.h5\n",
      " Reading Fe56 from\n",
      " Nuclear_Library/jeff-3.3-hdf5/Fe56.h5\n",
      " Reading Fe57 from\n",
      " Nuclear_Library/jeff-3.3-hdf5/Fe57.h5\n",
      " Reading Fe58 from\n",
      " Nuclear_Library/jeff-3.3-hdf5/Fe58.h5\n",
      " Reading Ni58 from\n",
      " Nuclear_Library/jeff-3.3-hdf5/Ni58.h5\n",
      " Reading Ni60 from\n",
      " Nuclear_Library/jeff-3.3-hdf5/Ni60.h5\n",
      " Reading Ni61 from\n",
      " Nuclear_Library/jeff-3.3-hdf5/Ni61.h5\n",
      " Reading Ni62 from\n",
      " Nuclear_Library/jeff-3.3-hdf5/Ni62.h5\n",
      " Reading Ni64 from\n",
      " Nuclear_Library/jeff-3.3-hdf5/Ni64.h5\n",
      " Reading Mn55 from\n",
      " Nuclear_Library/jeff-3.3-hdf5/Mn55.h5\n",
      " Reading Ti46 from\n",
      " Nuclear_Library/jeff-3.3-hdf5/Ti46.h5\n",
      " Reading Ti47 from\n",
      " Nuclear_Library/jeff-3.3-hdf5/Ti47.h5\n",
      " Reading Ti48 from\n",
      " Nuclear_Library/jeff-3.3-hdf5/Ti48.h5\n",
      " Reading Ti49 from\n",
      " Nuclear_Library/jeff-3.3-hdf5/Ti49.h5\n",
      " Reading Ti50 from\n",
      " Nuclear_Library/jeff-3.3-hdf5/Ti50.h5\n",
      " Minimum neutron data temperature: 294.0 K\n",
      " Maximum neutron data temperature: 294.0 K\n",
      " Preparing distributed cell instances...\n",
      " Writing summary.h5 file...\n",
      " Maximum neutron transport energy: 20000000.0 eV for B10\n",
      " Initializing source particles...\n",
      "\n",
      " ====================>     K EIGENVALUE SIMULATION     <====================\n",
      "\n",
      "  Bat./Gen.      k            Average k\n",
      "  =========   ========   ====================\n",
      "        1/1    1.07364\n",
      "        2/1    1.18532\n",
      "        3/1    1.25044    1.21788 +/- 0.03256\n",
      "        4/1    1.14238    1.19271 +/- 0.03141\n",
      "        5/1    1.07453    1.16317 +/- 0.03696\n",
      "        6/1    1.16754    1.16404 +/- 0.02865\n",
      "        7/1    1.25230    1.17875 +/- 0.02763\n",
      "        8/1    1.14756    1.17430 +/- 0.02377\n",
      "        9/1    1.19451    1.17682 +/- 0.02074\n",
      "       10/1    1.15038    1.17388 +/- 0.01853\n",
      "       11/1    1.26628    1.18312 +/- 0.01897\n",
      " Creating state point statepoint.11.h5...\n",
      "\n",
      " =======================>     TIMING STATISTICS     <=======================\n",
      "\n",
      " Total time for initialization     = 1.6286e+02 seconds\n",
      "   Reading cross sections          = 1.2477e+01 seconds\n",
      " Total time in simulation          = 2.1491e+02 seconds\n",
      "   Time in transport only          = 2.1478e+02 seconds\n",
      "   Time in inactive batches        = 1.9847e+01 seconds\n",
      "   Time in active batches          = 1.9507e+02 seconds\n",
      "   Time synchronizing fission bank = 6.2986e-04 seconds\n",
      "     Sampling source sites         = 5.7000e-04 seconds\n",
      "     SEND/RECV source sites        = 5.1758e-05 seconds\n",
      "   Time accumulating tallies       = 6.0490e-06 seconds\n",
      "   Time writing statepoints        = 1.2842e-01 seconds\n",
      " Total time for finalization       = 2.6450e-06 seconds\n",
      " Total time elapsed                = 3.7807e+02 seconds\n",
      " Calculation Rate (inactive)       = 25.1924 particles/second\n",
      " Calculation Rate (active)         = 25.6321 particles/second\n",
      "\n",
      " ============================>     RESULTS     <============================\n",
      "\n",
      " k-effective (Collision)     = 1.18488 +/- 0.01266\n",
      " k-effective (Track-length)  = 1.18312 +/- 0.01897\n",
      " k-effective (Absorption)    = 1.21645 +/- 0.01520\n",
      " Combined k-effective        = 1.19972 +/- 0.01025\n",
      " Leakage Fraction            = 0.00000 +/- 0.00000\n",
      "\n"
     ]
    }
   ],
   "source": [
    "os.chdir('./0')\n",
    "geometry = openmc.Geometry()\n",
    "geometry.root_universe=HTRten.root_universe\n",
    "geometry.export_to_xml()\n",
    "\n",
    "materials=openmc.Materials(HTRten.Reflector_mat+CRod.control_matr+Core.matr_collection)\n",
    "materials.export_to_xml()\n",
    "\n",
    "settings = openmc.Settings()\n",
    "settings.batches = 11\n",
    "settings.inactive = 1\n",
    "settings.particles = int(500)\n",
    "settings.material_cell_offsets=False\n",
    "\n",
    "bounds=[-90,-90,0,90,90,180]\n",
    "source=openmc.Source()\n",
    "source.space=openmc.stats.Box(bounds[:3], bounds[3:],only_fissionable=False)\n",
    "settings.source = source\n",
    "\n",
    "settings.export_to_xml()\n",
    "openmc.run()"
   ]
  },
  {
   "cell_type": "code",
   "execution_count": 12,
   "id": "7e4acfd8",
   "metadata": {
    "scrolled": false
   },
   "outputs": [],
   "source": [
    "# =======================================================================\n",
    "# ------------------------untested for burnup----------------------------\n",
    "# =======================================================================\n",
    "\n",
    "#operator   = openmc.deplete.Operator(geometry, settings, \"../chain_casl_pwr.xml\")\n",
    "#power      = 10e6\n",
    "#days       = timeline[1]-timeline[0]\n",
    "#timesteps  = [days * 24 *60 *60] *1\n",
    "#integrator = openmc.deplete.PredictorIntegrator(operator,timesteps,power)\n",
    "#integrator.integrate()\n"
   ]
  },
  {
   "cell_type": "code",
   "execution_count": 13,
   "id": "192526f3",
   "metadata": {},
   "outputs": [
    {
     "name": "stdout",
     "output_type": "stream",
     "text": [
      "========Print to PPM plots========\n"
     ]
    },
    {
     "name": "stderr",
     "output_type": "stream",
     "text": [
      "convert: /bin/../lib/././libuuid.so.1: no version information available (required by /lib/x86_64-linux-gnu/libSM.so.6)\n"
     ]
    },
    {
     "data": {
      "image/png": "[encoded data removed]",
      "text/plain": [
       "<IPython.core.display.Image object>"
      ]
     },
     "metadata": {},
     "output_type": "display_data"
    },
    {
     "name": "stderr",
     "output_type": "stream",
     "text": [
      "convert: /bin/../lib/././libuuid.so.1: no version information available (required by /lib/x86_64-linux-gnu/libSM.so.6)\n"
     ]
    },
    {
     "data": {
      "image/png": "[encoded data removed]",
      "text/plain": [
       "<IPython.core.display.Image object>"
      ]
     },
     "metadata": {},
     "output_type": "display_data"
    }
   ],
   "source": [
    "print('========Print to PPM plots========')\n",
    "res=500\n",
    "\n",
    "plot1 = openmc.Plot(plot_id=1)\n",
    "plot1.filename = 'materials-xz-0'\n",
    "plot1.basis='xz'\n",
    "plot1.origin = [0, 0, 46.818]\n",
    "plot1.width = [380, 610]\n",
    "plot1.pixels = [res, int(610*res/380)]\n",
    "plot1.color_by = 'material'\n",
    "\n",
    "plot2 = openmc.Plot(plot_id=2)\n",
    "plot2.filename = 'materials-xy-0'\n",
    "plot2.basis='xy'\n",
    "plot2.origin = [0, 0, (352.818-(171.2+(394.2-171.2)*0.45))]\n",
    "plot2.width = [380, 380]\n",
    "plot2.pixels = [res, res]\n",
    "plot2.color_by = 'material'\n",
    "\n",
    "plots = openmc.Plots([plot1,plot2])\n",
    "plots.export_to_xml()\n",
    "\n",
    "openmc.plot_inline(plot1)\n",
    "openmc.plot_inline(plot2)\n",
    "os.chdir('../')"
   ]
  },
  {
   "cell_type": "markdown",
   "id": "1be3c8cc",
   "metadata": {},
   "source": [
    "The Fisile object can also read the existing depletion_result and store it as new matlist variable. This can be used to continue to next DEM step without loosing the ties between material depletion and pebble position."
   ]
  },
  {
   "cell_type": "code",
   "execution_count": 14,
   "id": "f7561379",
   "metadata": {},
   "outputs": [
    {
     "data": {
      "text/html": [
       "<div>\n",
       "<style scoped>\n",
       "    .dataframe tbody tr th:only-of-type {\n",
       "        vertical-align: middle;\n",
       "    }\n",
       "\n",
       "    .dataframe tbody tr th {\n",
       "        vertical-align: top;\n",
       "    }\n",
       "\n",
       "    .dataframe thead th {\n",
       "        text-align: right;\n",
       "    }\n",
       "</style>\n",
       "<table border=\"1\" class=\"dataframe\">\n",
       "  <thead>\n",
       "    <tr style=\"text-align: right;\">\n",
       "      <th></th>\n",
       "      <th>atom fr</th>\n",
       "      <th>isotope</th>\n",
       "      <th>mass fr</th>\n",
       "      <th>atom den</th>\n",
       "    </tr>\n",
       "  </thead>\n",
       "  <tbody>\n",
       "    <tr>\n",
       "      <th>0</th>\n",
       "      <td>2.663951e-15</td>\n",
       "      <td>Ag107</td>\n",
       "      <td>3.176168e-15</td>\n",
       "      <td>1.858282e-16</td>\n",
       "    </tr>\n",
       "    <tr>\n",
       "      <th>1</th>\n",
       "      <td>2.670922e-07</td>\n",
       "      <td>Ag109</td>\n",
       "      <td>3.244003e-07</td>\n",
       "      <td>1.863145e-08</td>\n",
       "    </tr>\n",
       "    <tr>\n",
       "      <th>2</th>\n",
       "      <td>1.403011e-11</td>\n",
       "      <td>Ag109_m1</td>\n",
       "      <td>1.704045e-11</td>\n",
       "      <td>9.786929e-13</td>\n",
       "    </tr>\n",
       "    <tr>\n",
       "      <th>3</th>\n",
       "      <td>4.998643e-14</td>\n",
       "      <td>Ag110</td>\n",
       "      <td>6.126866e-14</td>\n",
       "      <td>3.486884e-15</td>\n",
       "    </tr>\n",
       "    <tr>\n",
       "      <th>4</th>\n",
       "      <td>3.744332e-11</td>\n",
       "      <td>Ag110_m1</td>\n",
       "      <td>4.589449e-11</td>\n",
       "      <td>2.611919e-12</td>\n",
       "    </tr>\n",
       "    <tr>\n",
       "      <th>...</th>\n",
       "      <td>...</td>\n",
       "      <td>...</td>\n",
       "      <td>...</td>\n",
       "      <td>...</td>\n",
       "    </tr>\n",
       "    <tr>\n",
       "      <th>218</th>\n",
       "      <td>4.670645e-05</td>\n",
       "      <td>Y91</td>\n",
       "      <td>4.736002e-05</td>\n",
       "      <td>3.258084e-06</td>\n",
       "    </tr>\n",
       "    <tr>\n",
       "      <th>219</th>\n",
       "      <td>3.994829e-06</td>\n",
       "      <td>Zr91</td>\n",
       "      <td>4.050729e-06</td>\n",
       "      <td>2.786657e-07</td>\n",
       "    </tr>\n",
       "    <tr>\n",
       "      <th>220</th>\n",
       "      <td>5.522448e-05</td>\n",
       "      <td>Zr93</td>\n",
       "      <td>5.722795e-05</td>\n",
       "      <td>3.852273e-06</td>\n",
       "    </tr>\n",
       "    <tr>\n",
       "      <th>221</th>\n",
       "      <td>5.250151e-05</td>\n",
       "      <td>Zr95</td>\n",
       "      <td>5.557622e-05</td>\n",
       "      <td>3.662328e-06</td>\n",
       "    </tr>\n",
       "    <tr>\n",
       "      <th>222</th>\n",
       "      <td>5.518600e-05</td>\n",
       "      <td>Zr96</td>\n",
       "      <td>5.903284e-05</td>\n",
       "      <td>3.849588e-06</td>\n",
       "    </tr>\n",
       "  </tbody>\n",
       "</table>\n",
       "<p>223 rows × 4 columns</p>\n",
       "</div>"
      ],
      "text/plain": [
       "          atom fr   isotope       mass fr      atom den\n",
       "0    2.663951e-15     Ag107  3.176168e-15  1.858282e-16\n",
       "1    2.670922e-07     Ag109  3.244003e-07  1.863145e-08\n",
       "2    1.403011e-11  Ag109_m1  1.704045e-11  9.786929e-13\n",
       "3    4.998643e-14     Ag110  6.126866e-14  3.486884e-15\n",
       "4    3.744332e-11  Ag110_m1  4.589449e-11  2.611919e-12\n",
       "..            ...       ...           ...           ...\n",
       "218  4.670645e-05       Y91  4.736002e-05  3.258084e-06\n",
       "219  3.994829e-06      Zr91  4.050729e-06  2.786657e-07\n",
       "220  5.522448e-05      Zr93  5.722795e-05  3.852273e-06\n",
       "221  5.250151e-05      Zr95  5.557622e-05  3.662328e-06\n",
       "222  5.518600e-05      Zr96  5.903284e-05  3.849588e-06\n",
       "\n",
       "[223 rows x 4 columns]"
      ]
     },
     "execution_count": 14,
     "metadata": {},
     "output_type": "execute_result"
    }
   ],
   "source": [
    "Fisile.read('depletion_results.h5')\n",
    "pd.DataFrame.from_dict({k: Fisile.matlist[0][k] for k in Fisile.matlist[0].keys()& {'atom den','atom fr','mass fr','isotope'}})"
   ]
  },
  {
   "cell_type": "markdown",
   "id": "ca4e3ea2",
   "metadata": {},
   "source": [
    "Here we plot the pebble object as .vtu data."
   ]
  },
  {
   "cell_type": "code",
   "execution_count": 15,
   "id": "261c18cd",
   "metadata": {},
   "outputs": [],
   "source": [
    "PU.vtk_PolyDataFile(Pebble.Pebbledf.copy(),'./0/Data_0')"
   ]
  },
  {
   "cell_type": "markdown",
   "id": "a3bb1552",
   "metadata": {},
   "source": [
    "For next DEM step, we need to change **step** variable with +=1. Then, the rest will be the same as before. The **label** method will not delete the previous ties between Pebble ID and label, even though it used different DEM dump. This was done to keep track the Pebble material depletion. Instead, **label** will add label to unlabelled pebble. In this case, it is segmented by 1 segment in axial direction, 3 radial segment and 1 angular segment. Since the unlabelled pebble is the fresh fuel, it will have same properties as **initial_condition**."
   ]
  },
  {
   "cell_type": "code",
   "execution_count": 16,
   "id": "22113e64",
   "metadata": {},
   "outputs": [
    {
     "data": {
      "text/html": [
       "<div>\n",
       "<style scoped>\n",
       "    .dataframe tbody tr th:only-of-type {\n",
       "        vertical-align: middle;\n",
       "    }\n",
       "\n",
       "    .dataframe tbody tr th {\n",
       "        vertical-align: top;\n",
       "    }\n",
       "\n",
       "    .dataframe thead th {\n",
       "        text-align: right;\n",
       "    }\n",
       "</style>\n",
       "<table border=\"1\" class=\"dataframe\">\n",
       "  <thead>\n",
       "    <tr style=\"text-align: right;\">\n",
       "      <th></th>\n",
       "      <th>theta</th>\n",
       "      <th>y</th>\n",
       "      <th>z</th>\n",
       "      <th>rho</th>\n",
       "      <th>label</th>\n",
       "      <th>id</th>\n",
       "      <th>type</th>\n",
       "      <th>x</th>\n",
       "    </tr>\n",
       "  </thead>\n",
       "  <tbody>\n",
       "    <tr>\n",
       "      <th>0</th>\n",
       "      <td>3.765045</td>\n",
       "      <td>-12.62440</td>\n",
       "      <td>-343.883</td>\n",
       "      <td>0.216230</td>\n",
       "      <td>0</td>\n",
       "      <td>1</td>\n",
       "      <td>2</td>\n",
       "      <td>-17.555000</td>\n",
       "    </tr>\n",
       "    <tr>\n",
       "      <th>1</th>\n",
       "      <td>4.859636</td>\n",
       "      <td>-21.64510</td>\n",
       "      <td>-341.452</td>\n",
       "      <td>0.218819</td>\n",
       "      <td>0</td>\n",
       "      <td>2</td>\n",
       "      <td>2</td>\n",
       "      <td>3.210410</td>\n",
       "    </tr>\n",
       "    <tr>\n",
       "      <th>2</th>\n",
       "      <td>4.539106</td>\n",
       "      <td>-20.72290</td>\n",
       "      <td>-345.274</td>\n",
       "      <td>0.210380</td>\n",
       "      <td>0</td>\n",
       "      <td>3</td>\n",
       "      <td>2</td>\n",
       "      <td>-3.627300</td>\n",
       "    </tr>\n",
       "    <tr>\n",
       "      <th>3</th>\n",
       "      <td>2.157357</td>\n",
       "      <td>18.20940</td>\n",
       "      <td>-345.959</td>\n",
       "      <td>0.218640</td>\n",
       "      <td>0</td>\n",
       "      <td>4</td>\n",
       "      <td>2</td>\n",
       "      <td>-12.101700</td>\n",
       "    </tr>\n",
       "    <tr>\n",
       "      <th>4</th>\n",
       "      <td>2.652850</td>\n",
       "      <td>10.25770</td>\n",
       "      <td>-349.888</td>\n",
       "      <td>0.218474</td>\n",
       "      <td>0</td>\n",
       "      <td>5</td>\n",
       "      <td>2</td>\n",
       "      <td>-19.289600</td>\n",
       "    </tr>\n",
       "    <tr>\n",
       "      <th>...</th>\n",
       "      <td>...</td>\n",
       "      <td>...</td>\n",
       "      <td>...</td>\n",
       "      <td>...</td>\n",
       "      <td>...</td>\n",
       "      <td>...</td>\n",
       "      <td>...</td>\n",
       "      <td>...</td>\n",
       "    </tr>\n",
       "    <tr>\n",
       "      <th>29485</th>\n",
       "      <td>1.375626</td>\n",
       "      <td>84.86870</td>\n",
       "      <td>180.781</td>\n",
       "      <td>0.865111</td>\n",
       "      <td>0</td>\n",
       "      <td>29486</td>\n",
       "      <td>1</td>\n",
       "      <td>16.777400</td>\n",
       "    </tr>\n",
       "    <tr>\n",
       "      <th>29486</th>\n",
       "      <td>4.942923</td>\n",
       "      <td>-20.02860</td>\n",
       "      <td>207.584</td>\n",
       "      <td>0.205729</td>\n",
       "      <td>0</td>\n",
       "      <td>29487</td>\n",
       "      <td>2</td>\n",
       "      <td>4.700840</td>\n",
       "    </tr>\n",
       "    <tr>\n",
       "      <th>29487</th>\n",
       "      <td>4.658975</td>\n",
       "      <td>-6.68144</td>\n",
       "      <td>207.682</td>\n",
       "      <td>0.066910</td>\n",
       "      <td>0</td>\n",
       "      <td>29488</td>\n",
       "      <td>2</td>\n",
       "      <td>-0.357225</td>\n",
       "    </tr>\n",
       "    <tr>\n",
       "      <th>29488</th>\n",
       "      <td>5.644248</td>\n",
       "      <td>-51.79100</td>\n",
       "      <td>179.920</td>\n",
       "      <td>0.868477</td>\n",
       "      <td>0</td>\n",
       "      <td>29489</td>\n",
       "      <td>1</td>\n",
       "      <td>69.715300</td>\n",
       "    </tr>\n",
       "    <tr>\n",
       "      <th>29489</th>\n",
       "      <td>5.952323</td>\n",
       "      <td>-20.67410</td>\n",
       "      <td>188.470</td>\n",
       "      <td>0.636403</td>\n",
       "      <td>0</td>\n",
       "      <td>29490</td>\n",
       "      <td>2</td>\n",
       "      <td>60.188600</td>\n",
       "    </tr>\n",
       "  </tbody>\n",
       "</table>\n",
       "<p>29490 rows × 8 columns</p>\n",
       "</div>"
      ],
      "text/plain": [
       "          theta         y        z       rho  label     id  type          x\n",
       "0      3.765045 -12.62440 -343.883  0.216230      0      1     2 -17.555000\n",
       "1      4.859636 -21.64510 -341.452  0.218819      0      2     2   3.210410\n",
       "2      4.539106 -20.72290 -345.274  0.210380      0      3     2  -3.627300\n",
       "3      2.157357  18.20940 -345.959  0.218640      0      4     2 -12.101700\n",
       "4      2.652850  10.25770 -349.888  0.218474      0      5     2 -19.289600\n",
       "...         ...       ...      ...       ...    ...    ...   ...        ...\n",
       "29485  1.375626  84.86870  180.781  0.865111      0  29486     1  16.777400\n",
       "29486  4.942923 -20.02860  207.584  0.205729      0  29487     2   4.700840\n",
       "29487  4.658975  -6.68144  207.682  0.066910      0  29488     2  -0.357225\n",
       "29488  5.644248 -51.79100  179.920  0.868477      0  29489     1  69.715300\n",
       "29489  5.952323 -20.67410  188.470  0.636403      0  29490     2  60.188600\n",
       "\n",
       "[29490 rows x 8 columns]"
      ]
     },
     "execution_count": 16,
     "metadata": {},
     "output_type": "execute_result"
    }
   ],
   "source": [
    "Pebble.step+=1\n",
    "\n",
    "filepath = int(initial+(deltas*timeline[1])+1*100000)\n",
    "Pebble.read('./DEM_post/pebble_'+str(filepath)+'.vtk')\n",
    "Pebble.label(PU.radial_axial,axial_segment=1,radial_segment=3,angle_segment=1)\n",
    "\n",
    "for j in range(max(Pebble.Pebbledf['label'])-3,max(Pebble.Pebbledf['label'])):\n",
    "    Fisile.add(Initial_condition[0],Initial_condition[1],\n",
    "               10.4,8335*(4/3)*math.pi*(0.025**3),j+1,\n",
    "               Pebble.Pebbledf,fraction_type='atom fr')\n",
    "Fisile.write_material()\n",
    "\n",
    "pd.DataFrame({k: Pebble.Pebbledf[k] for k in Pebble.Pebbledf.keys()& {'id','x','y','z','rho','theta','type','label'}})"
   ]
  },
  {
   "cell_type": "markdown",
   "id": "b3f7b7ce",
   "metadata": {},
   "source": [
    "Here is the implementation to the Pebble core universe and plot of it."
   ]
  },
  {
   "cell_type": "code",
   "execution_count": 17,
   "id": "964a5277",
   "metadata": {},
   "outputs": [
    {
     "name": "stderr",
     "output_type": "stream",
     "text": [
      "/lib/python3.9/site-packages/openmc/mixin.py:68: IDWarning: Another Plot instance already exists with id=1.\n",
      "  warn(msg, IDWarning)\n",
      "/lib/python3.9/site-packages/openmc/mixin.py:68: IDWarning: Another Plot instance already exists with id=2.\n",
      "  warn(msg, IDWarning)\n",
      "convert: /bin/../lib/././libuuid.so.1: no version information available (required by /lib/x86_64-linux-gnu/libSM.so.6)\n"
     ]
    },
    {
     "data": {
      "image/png": "[encoded data removed]",
      "text/plain": [
       "<IPython.core.display.Image object>"
      ]
     },
     "metadata": {},
     "output_type": "display_data"
    },
    {
     "name": "stderr",
     "output_type": "stream",
     "text": [
      "convert: /bin/../lib/././libuuid.so.1: no version information available (required by /lib/x86_64-linux-gnu/libSM.so.6)\n"
     ]
    },
    {
     "data": {
      "image/png": "[encoded data removed]",
      "text/plain": [
       "<IPython.core.display.Image object>"
      ]
     },
     "metadata": {},
     "output_type": "display_data"
    },
    {
     "name": "stderr",
     "output_type": "stream",
     "text": [
      "convert: /bin/../lib/././libuuid.so.1: no version information available (required by /lib/x86_64-linux-gnu/libSM.so.6)\n"
     ]
    },
    {
     "data": {
      "image/png": "[encoded data removed]",
      "text/plain": [
       "<IPython.core.display.Image object>"
      ]
     },
     "metadata": {},
     "output_type": "display_data"
    },
    {
     "name": "stderr",
     "output_type": "stream",
     "text": [
      "convert: /bin/../lib/././libuuid.so.1: no version information available (required by /lib/x86_64-linux-gnu/libSM.so.6)\n"
     ]
    },
    {
     "data": {
      "image/png": "[encoded data removed]",
      "text/plain": [
       "<IPython.core.display.Image object>"
      ]
     },
     "metadata": {},
     "output_type": "display_data"
    }
   ],
   "source": [
    "Core = HTR10.HTR10_Core_Universe(Pebble.Pebbledf,Fisile.kernel_material)\n",
    "Core.create_TRISO()\n",
    "Core.create_Pebble(TRIpos)\n",
    "Core.create_Core()\n",
    "Core.visualize(res=400,dirs='visualize/')"
   ]
  }
 ],
 "metadata": {
  "kernelspec": {
   "display_name": "Python 3 (ipykernel)",
   "language": "python",
   "name": "python3"
  },
  "language_info": {
   "codemirror_mode": {
    "name": "ipython",
    "version": 3
   },
   "file_extension": ".py",
   "mimetype": "text/x-python",
   "name": "python",
   "nbconvert_exporter": "python",
   "pygments_lexer": "ipython3",
   "version": "3.9.7"
  }
 },
 "nbformat": 4,
 "nbformat_minor": 5
}
